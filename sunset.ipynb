{
 "cells": [
  {
   "cell_type": "markdown",
   "metadata": {},
   "source": [
    "This notebook is for gathering data on sunset times at two different locations and representing those data graphically."
   ]
  },
  {
   "cell_type": "code",
   "execution_count": null,
   "metadata": {},
   "outputs": [],
   "source": [
    "import pandas as pd\n",
    "import matplotlib.pyplot as plt"
   ]
  },
  {
   "cell_type": "code",
   "execution_count": null,
   "metadata": {},
   "outputs": [],
   "source": [
    "fwdata = pd.read_csv('data/fw-data.csv')\n",
    "print(fwdata)"
   ]
  },
  {
   "cell_type": "code",
   "execution_count": null,
   "metadata": {},
   "outputs": [],
   "source": [
    "cfdata = pd.read_csv('data/cf-data.csv')\n",
    "print(cfdata)"
   ]
  },
  {
   "cell_type": "code",
   "execution_count": null,
   "metadata": {},
   "outputs": [],
   "source": [
    "print(list(fwdata))\n",
    "print(list(cfdata))"
   ]
  },
  {
   "cell_type": "code",
   "execution_count": null,
   "metadata": {},
   "outputs": [],
   "source": [
    "fwdata.drop([\"sunrise time\", \"Zenith\", \"Day length\", \"Astronomical twilight start\", \"Nautical twilight start\", 'Civil twilight start', 'Civil twilight end', 'Nautical twilight end', 'Astronomical twilight end', 'Unnamed: 11'], axis = 1, inplace = True)\n",
    "print(list(fwdata))\n",
    "cfdata.drop([\"sunrise time\", \"Zenith\", \"Day length\", \"Astronomical twilight start\", \"Nautical twilight start\", 'Civil twilight start', 'Civil twilight end', 'Nautical twilight end', 'Astronomical twilight end', 'Unnamed: 11'], axis = 1, inplace = True)\n",
    "print(list(cfdata))"
   ]
  },
  {
   "cell_type": "code",
   "execution_count": null,
   "metadata": {},
   "outputs": [],
   "source": [
    "fwdata['FW Sunset'] = fwdata['FW Sunset'].str.replace(' PM','')\n",
    "cfdata['CF Sunset'] = cfdata['CF Sunset'].str.replace(' PM','')"
   ]
  },
  {
   "cell_type": "code",
   "execution_count": null,
   "metadata": {},
   "outputs": [],
   "source": [
    "fwdata['FW Sunset'] = pd.to_datetime(fwdata['FW Sunset']).dt.time\n",
    "cfdata['CF Sunset'] = pd.to_datetime(cfdata['CF Sunset']).dt.time"
   ]
  },
  {
   "cell_type": "code",
   "execution_count": null,
   "metadata": {},
   "outputs": [],
   "source": [
    "sunsetdata = pd.merge(fwdata, cfdata)\n",
    "sunsetdata"
   ]
  },
  {
   "cell_type": "markdown",
   "metadata": {},
   "source": [
    "https://www.geeksforgeeks.org/matplotlib-pyplot-plot_date-in-python/\n",
    "https://stackoverflow.com/questions/32832431/how-to-use-datetime-time-to-plot-in-python"
   ]
  },
  {
   "cell_type": "code",
   "execution_count": null,
   "metadata": {},
   "outputs": [],
   "source": [
    "sunsetdata.plot(x = '2022', y = ['FW Sunset', 'CF Sunset'])\n",
    "plt.show()"
   ]
  }
 ],
 "metadata": {
  "kernelspec": {
   "display_name": "Python 3.9.12 ('base')",
   "language": "python",
   "name": "python3"
  },
  "language_info": {
   "codemirror_mode": {
    "name": "ipython",
    "version": 3
   },
   "file_extension": ".py",
   "mimetype": "text/x-python",
   "name": "python",
   "nbconvert_exporter": "python",
   "pygments_lexer": "ipython3",
   "version": "3.9.12"
  },
  "orig_nbformat": 4,
  "vscode": {
   "interpreter": {
    "hash": "d82ea8c7c79b0b9bd8109cb74dd0acef3c7f0cf058071bc61080534d614d21a6"
   }
  }
 },
 "nbformat": 4,
 "nbformat_minor": 2
}
