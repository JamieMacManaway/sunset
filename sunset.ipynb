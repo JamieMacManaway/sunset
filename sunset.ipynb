{
 "cells": [
  {
   "cell_type": "markdown",
   "metadata": {},
   "source": [
    "This notebook is for gathering data on sunset times at two different locations and representing those data graphically."
   ]
  },
  {
   "cell_type": "code",
   "execution_count": 9,
   "metadata": {},
   "outputs": [],
   "source": [
    "import pandas as pd\n",
    "import matplotlib.pyplot as plt"
   ]
  },
  {
   "cell_type": "code",
   "execution_count": 10,
   "metadata": {},
   "outputs": [
    {
     "name": "stdout",
     "output_type": "stream",
     "text": [
      "       2022 sunrise time   Zenith FW Sunset Day length  \\\n",
      "0    01-Jan      9:58 AM  1:25 PM   4:51 PM   06:52:56   \n",
      "1    02-Jan      9:58 AM  1:25 PM   4:52 PM   06:54:29   \n",
      "2    03-Jan      9:57 AM  1:26 PM   4:54 PM   06:56:11   \n",
      "3    04-Jan      9:57 AM  1:26 PM   4:55 PM   06:58:01   \n",
      "4    05-Jan      9:56 AM  1:26 PM   4:56 PM   06:59:58   \n",
      "..      ...          ...      ...       ...        ...   \n",
      "360  27-Dec      9:59 AM  1:22 PM   4:46 PM   06:46:58   \n",
      "361  28-Dec      9:59 AM  1:23 PM   4:47 PM   06:47:48   \n",
      "362  29-Dec      9:59 AM  1:23 PM   4:47 PM   06:48:47   \n",
      "363  30-Dec      9:59 AM  1:24 PM   4:49 PM   06:49:54   \n",
      "364  31-Dec      9:58 AM  1:24 PM   4:50 PM   06:51:09   \n",
      "\n",
      "    Astronomical twilight start Nautical twilight start Civil twilight start  \\\n",
      "0                         +1:26                 7:33 AM              8:19 AM   \n",
      "1                         +1:33                 7:33 AM              8:19 AM   \n",
      "2                         +1:42                 7:33 AM              8:19 AM   \n",
      "3                         +1:50                 7:33 AM              8:19 AM   \n",
      "4                         +1:57                 7:32 AM              8:19 AM   \n",
      "..                          ...                     ...                  ...   \n",
      "360                       +0:41                 7:32 AM              8:19 AM   \n",
      "361                       +0:50                 7:33 AM              8:19 AM   \n",
      "362                       +0:59                 7:33 AM              8:19 AM   \n",
      "363                       +1:07                 7:33 AM              8:19 AM   \n",
      "364                       +1:15                 7:33 AM              8:19 AM   \n",
      "\n",
      "    Civil twilight end Nautical twilight end Astronomical twilight end  \\\n",
      "0              9:58 AM               4:51 PM                   6:30 PM   \n",
      "1              9:58 AM               4:52 PM                   6:31 PM   \n",
      "2              9:57 AM               4:54 PM                   6:32 PM   \n",
      "3              9:57 AM               4:55 PM                   6:33 PM   \n",
      "4              9:56 AM               4:56 PM                   6:34 PM   \n",
      "..                 ...                   ...                       ...   \n",
      "360            9:59 AM               4:46 PM                   6:25 PM   \n",
      "361            9:59 AM               4:47 PM                   6:26 PM   \n",
      "362            9:59 AM               4:47 PM                   6:27 PM   \n",
      "363            9:59 AM               4:49 PM                   6:28 PM   \n",
      "364            9:58 AM               4:50 PM                   6:29 PM   \n",
      "\n",
      "    Unnamed: 11  \n",
      "0       7:16 PM  \n",
      "1       7:17 PM  \n",
      "2       7:18 PM  \n",
      "3       7:19 PM  \n",
      "4       7:20 PM  \n",
      "..          ...  \n",
      "360     7:12 PM  \n",
      "361     7:13 PM  \n",
      "362     7:13 PM  \n",
      "363     7:14 PM  \n",
      "364     7:15 PM  \n",
      "\n",
      "[365 rows x 12 columns]\n"
     ]
    }
   ],
   "source": [
    "fwdata = pd.read_csv('fw-data.csv')\n",
    "print(fwdata)"
   ]
  },
  {
   "cell_type": "code",
   "execution_count": 11,
   "metadata": {},
   "outputs": [
    {
     "name": "stdout",
     "output_type": "stream",
     "text": [
      "       2022 sunrise time   Zenith CF Sunset Day length  \\\n",
      "0    01-Jan      9:19 AM  1:17 PM   5:15 PM   07:55:17   \n",
      "1    02-Jan      9:19 AM  1:17 PM   5:16 PM   07:56:28   \n",
      "2    03-Jan      9:19 AM  1:18 PM   5:17 PM   07:57:44   \n",
      "3    04-Jan      9:19 AM  1:18 PM   5:18 PM   07:59:06   \n",
      "4    05-Jan      9:18 AM  1:19 PM   5:19 PM   08:00:34   \n",
      "..      ...          ...      ...       ...        ...   \n",
      "360  27-Dec      9:19 AM  1:14 PM   5:10 PM   07:50:51   \n",
      "361  28-Dec      9:19 AM  1:15 PM   5:11 PM   07:51:28   \n",
      "362  29-Dec      9:19 AM  1:15 PM   5:12 PM   07:52:12   \n",
      "363  30-Dec      9:19 AM  1:16 PM   5:12 PM   07:53:01   \n",
      "364  31-Dec      9:19 AM  1:16 PM   5:13 PM   07:53:58   \n",
      "\n",
      "    Astronomical twilight start Nautical twilight start Civil twilight start  \\\n",
      "0                         +1:03                 7:16 AM              7:56 AM   \n",
      "1                         +1:11                 7:16 AM              7:56 AM   \n",
      "2                         +1:16                 7:16 AM              7:56 AM   \n",
      "3                         +1:22                 7:16 AM              7:56 AM   \n",
      "4                         +1:28                 7:16 AM              7:56 AM   \n",
      "..                          ...                     ...                  ...   \n",
      "360                       +0:31                 7:15 AM              7:56 AM   \n",
      "361                       +0:37                 7:15 AM              7:56 AM   \n",
      "362                       +0:44                 7:15 AM              7:56 AM   \n",
      "363                       +0:49                 7:16 AM              7:56 AM   \n",
      "364                       +0:57                 7:16 AM              7:56 AM   \n",
      "\n",
      "    Civil twilight end Nautical twilight end Astronomical twilight end  \\\n",
      "0              9:19 AM               5:15 PM                   6:37 PM   \n",
      "1              9:19 AM               5:16 PM                   6:38 PM   \n",
      "2              9:19 AM               5:17 PM                   6:39 PM   \n",
      "3              9:19 AM               5:18 PM                   6:40 PM   \n",
      "4              9:18 AM               5:19 PM                   6:41 PM   \n",
      "..                 ...                   ...                       ...   \n",
      "360            9:19 AM               5:10 PM                   6:33 PM   \n",
      "361            9:19 AM               5:11 PM                   6:34 PM   \n",
      "362            9:19 AM               5:12 PM                   6:35 PM   \n",
      "363            9:19 AM               5:12 PM                   6:36 PM   \n",
      "364            9:19 AM               5:13 PM                   6:36 PM   \n",
      "\n",
      "    Unnamed: 11  \n",
      "0       7:18 PM  \n",
      "1       7:19 PM  \n",
      "2       7:20 PM  \n",
      "3       7:21 PM  \n",
      "4       7:22 PM  \n",
      "..          ...  \n",
      "360     7:14 PM  \n",
      "361     7:15 PM  \n",
      "362     7:15 PM  \n",
      "363     7:16 PM  \n",
      "364     7:17 PM  \n",
      "\n",
      "[365 rows x 12 columns]\n"
     ]
    }
   ],
   "source": [
    "cfdata = pd.read_csv('cf-data.csv')\n",
    "print(cfdata)"
   ]
  },
  {
   "cell_type": "code",
   "execution_count": 12,
   "metadata": {},
   "outputs": [
    {
     "name": "stdout",
     "output_type": "stream",
     "text": [
      "['2022', 'sunrise time', 'Zenith', 'FW Sunset', 'Day length', 'Astronomical twilight start', 'Nautical twilight start', 'Civil twilight start', 'Civil twilight end', 'Nautical twilight end', 'Astronomical twilight end', 'Unnamed: 11']\n",
      "['2022', 'sunrise time', 'Zenith', 'CF Sunset', 'Day length', 'Astronomical twilight start', 'Nautical twilight start', 'Civil twilight start', 'Civil twilight end', 'Nautical twilight end', 'Astronomical twilight end', 'Unnamed: 11']\n"
     ]
    }
   ],
   "source": [
    "print(list(fwdata))\n",
    "print(list(cfdata))"
   ]
  },
  {
   "cell_type": "code",
   "execution_count": 13,
   "metadata": {},
   "outputs": [
    {
     "name": "stdout",
     "output_type": "stream",
     "text": [
      "['2022', 'FW Sunset']\n",
      "['2022', 'CF Sunset']\n"
     ]
    }
   ],
   "source": [
    "fwdata.drop([\"sunrise time\", \"Zenith\", \"Day length\", \"Astronomical twilight start\", \"Nautical twilight start\", 'Civil twilight start', 'Civil twilight end', 'Nautical twilight end', 'Astronomical twilight end', 'Unnamed: 11'], axis = 1, inplace = True)\n",
    "print(list(fwdata))\n",
    "cfdata.drop([\"sunrise time\", \"Zenith\", \"Day length\", \"Astronomical twilight start\", \"Nautical twilight start\", 'Civil twilight start', 'Civil twilight end', 'Nautical twilight end', 'Astronomical twilight end', 'Unnamed: 11'], axis = 1, inplace = True)\n",
    "print(list(cfdata))"
   ]
  },
  {
   "cell_type": "code",
   "execution_count": 14,
   "metadata": {},
   "outputs": [],
   "source": [
    "fwdata['FW Sunset'] = fwdata['FW Sunset'].str.replace(' PM','')\n",
    "fwdata['FW Sunset'] = fwdata['FW Sunset'].str.replace(':','')"
   ]
  },
  {
   "cell_type": "code",
   "execution_count": 15,
   "metadata": {},
   "outputs": [
    {
     "data": {
      "text/html": [
       "<div>\n",
       "<style scoped>\n",
       "    .dataframe tbody tr th:only-of-type {\n",
       "        vertical-align: middle;\n",
       "    }\n",
       "\n",
       "    .dataframe tbody tr th {\n",
       "        vertical-align: top;\n",
       "    }\n",
       "\n",
       "    .dataframe thead th {\n",
       "        text-align: right;\n",
       "    }\n",
       "</style>\n",
       "<table border=\"1\" class=\"dataframe\">\n",
       "  <thead>\n",
       "    <tr style=\"text-align: right;\">\n",
       "      <th></th>\n",
       "      <th>2022</th>\n",
       "      <th>CF Sunset</th>\n",
       "    </tr>\n",
       "  </thead>\n",
       "  <tbody>\n",
       "    <tr>\n",
       "      <th>0</th>\n",
       "      <td>01-Jan</td>\n",
       "      <td>515</td>\n",
       "    </tr>\n",
       "    <tr>\n",
       "      <th>1</th>\n",
       "      <td>02-Jan</td>\n",
       "      <td>516</td>\n",
       "    </tr>\n",
       "    <tr>\n",
       "      <th>2</th>\n",
       "      <td>03-Jan</td>\n",
       "      <td>517</td>\n",
       "    </tr>\n",
       "    <tr>\n",
       "      <th>3</th>\n",
       "      <td>04-Jan</td>\n",
       "      <td>518</td>\n",
       "    </tr>\n",
       "    <tr>\n",
       "      <th>4</th>\n",
       "      <td>05-Jan</td>\n",
       "      <td>519</td>\n",
       "    </tr>\n",
       "    <tr>\n",
       "      <th>...</th>\n",
       "      <td>...</td>\n",
       "      <td>...</td>\n",
       "    </tr>\n",
       "    <tr>\n",
       "      <th>360</th>\n",
       "      <td>27-Dec</td>\n",
       "      <td>510</td>\n",
       "    </tr>\n",
       "    <tr>\n",
       "      <th>361</th>\n",
       "      <td>28-Dec</td>\n",
       "      <td>511</td>\n",
       "    </tr>\n",
       "    <tr>\n",
       "      <th>362</th>\n",
       "      <td>29-Dec</td>\n",
       "      <td>512</td>\n",
       "    </tr>\n",
       "    <tr>\n",
       "      <th>363</th>\n",
       "      <td>30-Dec</td>\n",
       "      <td>512</td>\n",
       "    </tr>\n",
       "    <tr>\n",
       "      <th>364</th>\n",
       "      <td>31-Dec</td>\n",
       "      <td>513</td>\n",
       "    </tr>\n",
       "  </tbody>\n",
       "</table>\n",
       "<p>365 rows × 2 columns</p>\n",
       "</div>"
      ],
      "text/plain": [
       "       2022 CF Sunset\n",
       "0    01-Jan       515\n",
       "1    02-Jan       516\n",
       "2    03-Jan       517\n",
       "3    04-Jan       518\n",
       "4    05-Jan       519\n",
       "..      ...       ...\n",
       "360  27-Dec       510\n",
       "361  28-Dec       511\n",
       "362  29-Dec       512\n",
       "363  30-Dec       512\n",
       "364  31-Dec       513\n",
       "\n",
       "[365 rows x 2 columns]"
      ]
     },
     "execution_count": 15,
     "metadata": {},
     "output_type": "execute_result"
    }
   ],
   "source": [
    "cfdata['CF Sunset'] = cfdata['CF Sunset'].str.replace(' PM','')\n",
    "cfdata['CF Sunset'] = cfdata['CF Sunset'].str.replace(':','')\n",
    "cfdata"
   ]
  },
  {
   "cell_type": "code",
   "execution_count": 16,
   "metadata": {},
   "outputs": [],
   "source": [
    "fwdata['FW Sunset'] = [int(x) for x in fwdata['FW Sunset']]\n",
    "\n",
    "cfdata['CF Sunset'] = [int(x) for x in cfdata['CF Sunset']]"
   ]
  },
  {
   "cell_type": "code",
   "execution_count": 17,
   "metadata": {},
   "outputs": [],
   "source": [
    "sunsetdata = pd.merge(fwdata, cfdata)"
   ]
  },
  {
   "cell_type": "code",
   "execution_count": 20,
   "metadata": {},
   "outputs": [
    {
     "data": {
      "image/png": "[encoded data removed]",
      "text/plain": [
       "<Figure size 432x288 with 1 Axes>"
      ]
     },
     "metadata": {
      "needs_background": "light"
     },
     "output_type": "display_data"
    }
   ],
   "source": [
    "sunsetdata.plot(x = '2022', y = ['FW Sunset', 'CF Sunset'])\n",
    "plt.show()"
   ]
  }
 ],
 "metadata": {
  "kernelspec": {
   "display_name": "Python 3.9.12 ('base')",
   "language": "python",
   "name": "python3"
  },
  "language_info": {
   "codemirror_mode": {
    "name": "ipython",
    "version": 3
   },
   "file_extension": ".py",
   "mimetype": "text/x-python",
   "name": "python",
   "nbconvert_exporter": "python",
   "pygments_lexer": "ipython3",
   "version": "3.9.12"
  },
  "orig_nbformat": 4,
  "vscode": {
   "interpreter": {
    "hash": "d82ea8c7c79b0b9bd8109cb74dd0acef3c7f0cf058071bc61080534d614d21a6"
   }
  }
 },
 "nbformat": 4,
 "nbformat_minor": 2
}
