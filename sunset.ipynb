{
 "cells": [
  {
   "cell_type": "markdown",
   "metadata": {},
   "source": [
    "This notebook is for gathering data on sunset times at two different locations and representing those data graphically."
   ]
  },
  {
   "cell_type": "code",
   "execution_count": 25,
   "metadata": {},
   "outputs": [],
   "source": [
    "import pandas as pd\n",
    "import matplotlib.pyplot as plt\n",
    "import matplotlib.dates as mdates"
   ]
  },
  {
   "cell_type": "markdown",
   "metadata": {},
   "source": [
    "import data from csv files and view it."
   ]
  },
  {
   "cell_type": "code",
   "execution_count": 26,
   "metadata": {},
   "outputs": [
    {
     "name": "stdout",
     "output_type": "stream",
     "text": [
      "       2022 sunrise time   Zenith FW Sunset Day length  \\\n",
      "0    01-Jan      9:58 AM  1:25 PM   4:51 PM   06:52:56   \n",
      "1    02-Jan      9:58 AM  1:25 PM   4:52 PM   06:54:29   \n",
      "2    03-Jan      9:57 AM  1:26 PM   4:54 PM   06:56:11   \n",
      "3    04-Jan      9:57 AM  1:26 PM   4:55 PM   06:58:01   \n",
      "4    05-Jan      9:56 AM  1:26 PM   4:56 PM   06:59:58   \n",
      "..      ...          ...      ...       ...        ...   \n",
      "360  27-Dec      9:59 AM  1:22 PM   4:46 PM   06:46:58   \n",
      "361  28-Dec      9:59 AM  1:23 PM   4:47 PM   06:47:48   \n",
      "362  29-Dec      9:59 AM  1:23 PM   4:47 PM   06:48:47   \n",
      "363  30-Dec      9:59 AM  1:24 PM   4:49 PM   06:49:54   \n",
      "364  31-Dec      9:58 AM  1:24 PM   4:50 PM   06:51:09   \n",
      "\n",
      "    Astronomical twilight start Nautical twilight start Civil twilight start  \\\n",
      "0                         +1:26                 7:33 AM              8:19 AM   \n",
      "1                         +1:33                 7:33 AM              8:19 AM   \n",
      "2                         +1:42                 7:33 AM              8:19 AM   \n",
      "3                         +1:50                 7:33 AM              8:19 AM   \n",
      "4                         +1:57                 7:32 AM              8:19 AM   \n",
      "..                          ...                     ...                  ...   \n",
      "360                       +0:41                 7:32 AM              8:19 AM   \n",
      "361                       +0:50                 7:33 AM              8:19 AM   \n",
      "362                       +0:59                 7:33 AM              8:19 AM   \n",
      "363                       +1:07                 7:33 AM              8:19 AM   \n",
      "364                       +1:15                 7:33 AM              8:19 AM   \n",
      "\n",
      "    Civil twilight end Nautical twilight end Astronomical twilight end  \\\n",
      "0              9:58 AM               4:51 PM                   6:30 PM   \n",
      "1              9:58 AM               4:52 PM                   6:31 PM   \n",
      "2              9:57 AM               4:54 PM                   6:32 PM   \n",
      "3              9:57 AM               4:55 PM                   6:33 PM   \n",
      "4              9:56 AM               4:56 PM                   6:34 PM   \n",
      "..                 ...                   ...                       ...   \n",
      "360            9:59 AM               4:46 PM                   6:25 PM   \n",
      "361            9:59 AM               4:47 PM                   6:26 PM   \n",
      "362            9:59 AM               4:47 PM                   6:27 PM   \n",
      "363            9:59 AM               4:49 PM                   6:28 PM   \n",
      "364            9:58 AM               4:50 PM                   6:29 PM   \n",
      "\n",
      "    Unnamed: 11  \n",
      "0       7:16 PM  \n",
      "1       7:17 PM  \n",
      "2       7:18 PM  \n",
      "3       7:19 PM  \n",
      "4       7:20 PM  \n",
      "..          ...  \n",
      "360     7:12 PM  \n",
      "361     7:13 PM  \n",
      "362     7:13 PM  \n",
      "363     7:14 PM  \n",
      "364     7:15 PM  \n",
      "\n",
      "[365 rows x 12 columns]\n"
     ]
    }
   ],
   "source": [
    "fwdata = pd.read_csv('data/fw-data.csv')\n",
    "print(fwdata)"
   ]
  },
  {
   "cell_type": "code",
   "execution_count": 27,
   "metadata": {},
   "outputs": [
    {
     "name": "stdout",
     "output_type": "stream",
     "text": [
      "       2022 sunrise time   Zenith CF Sunset Day length  \\\n",
      "0    01-Jan      9:19 AM  1:17 PM   5:15 PM   07:55:17   \n",
      "1    02-Jan      9:19 AM  1:17 PM   5:16 PM   07:56:28   \n",
      "2    03-Jan      9:19 AM  1:18 PM   5:17 PM   07:57:44   \n",
      "3    04-Jan      9:19 AM  1:18 PM   5:18 PM   07:59:06   \n",
      "4    05-Jan      9:18 AM  1:19 PM   5:19 PM   08:00:34   \n",
      "..      ...          ...      ...       ...        ...   \n",
      "360  27-Dec      9:19 AM  1:14 PM   5:10 PM   07:50:51   \n",
      "361  28-Dec      9:19 AM  1:15 PM   5:11 PM   07:51:28   \n",
      "362  29-Dec      9:19 AM  1:15 PM   5:12 PM   07:52:12   \n",
      "363  30-Dec      9:19 AM  1:16 PM   5:12 PM   07:53:01   \n",
      "364  31-Dec      9:19 AM  1:16 PM   5:13 PM   07:53:58   \n",
      "\n",
      "    Astronomical twilight start Nautical twilight start Civil twilight start  \\\n",
      "0                         +1:03                 7:16 AM              7:56 AM   \n",
      "1                         +1:11                 7:16 AM              7:56 AM   \n",
      "2                         +1:16                 7:16 AM              7:56 AM   \n",
      "3                         +1:22                 7:16 AM              7:56 AM   \n",
      "4                         +1:28                 7:16 AM              7:56 AM   \n",
      "..                          ...                     ...                  ...   \n",
      "360                       +0:31                 7:15 AM              7:56 AM   \n",
      "361                       +0:37                 7:15 AM              7:56 AM   \n",
      "362                       +0:44                 7:15 AM              7:56 AM   \n",
      "363                       +0:49                 7:16 AM              7:56 AM   \n",
      "364                       +0:57                 7:16 AM              7:56 AM   \n",
      "\n",
      "    Civil twilight end Nautical twilight end Astronomical twilight end  \\\n",
      "0              9:19 AM               5:15 PM                   6:37 PM   \n",
      "1              9:19 AM               5:16 PM                   6:38 PM   \n",
      "2              9:19 AM               5:17 PM                   6:39 PM   \n",
      "3              9:19 AM               5:18 PM                   6:40 PM   \n",
      "4              9:18 AM               5:19 PM                   6:41 PM   \n",
      "..                 ...                   ...                       ...   \n",
      "360            9:19 AM               5:10 PM                   6:33 PM   \n",
      "361            9:19 AM               5:11 PM                   6:34 PM   \n",
      "362            9:19 AM               5:12 PM                   6:35 PM   \n",
      "363            9:19 AM               5:12 PM                   6:36 PM   \n",
      "364            9:19 AM               5:13 PM                   6:36 PM   \n",
      "\n",
      "    Unnamed: 11  \n",
      "0       7:18 PM  \n",
      "1       7:19 PM  \n",
      "2       7:20 PM  \n",
      "3       7:21 PM  \n",
      "4       7:22 PM  \n",
      "..          ...  \n",
      "360     7:14 PM  \n",
      "361     7:15 PM  \n",
      "362     7:15 PM  \n",
      "363     7:16 PM  \n",
      "364     7:17 PM  \n",
      "\n",
      "[365 rows x 12 columns]\n"
     ]
    }
   ],
   "source": [
    "cfdata = pd.read_csv('data/cf-data.csv')\n",
    "print(cfdata)"
   ]
  },
  {
   "cell_type": "markdown",
   "metadata": {},
   "source": [
    "print list of columns in dataframes."
   ]
  },
  {
   "cell_type": "code",
   "execution_count": 28,
   "metadata": {},
   "outputs": [
    {
     "name": "stdout",
     "output_type": "stream",
     "text": [
      "['2022', 'sunrise time', 'Zenith', 'FW Sunset', 'Day length', 'Astronomical twilight start', 'Nautical twilight start', 'Civil twilight start', 'Civil twilight end', 'Nautical twilight end', 'Astronomical twilight end', 'Unnamed: 11']\n",
      "['2022', 'sunrise time', 'Zenith', 'CF Sunset', 'Day length', 'Astronomical twilight start', 'Nautical twilight start', 'Civil twilight start', 'Civil twilight end', 'Nautical twilight end', 'Astronomical twilight end', 'Unnamed: 11']\n"
     ]
    }
   ],
   "source": [
    "print(list(fwdata))\n",
    "print(list(cfdata))"
   ]
  },
  {
   "cell_type": "markdown",
   "metadata": {},
   "source": [
    "Remove extraneous columns from dataframes."
   ]
  },
  {
   "cell_type": "code",
   "execution_count": 29,
   "metadata": {},
   "outputs": [
    {
     "name": "stdout",
     "output_type": "stream",
     "text": [
      "['2022', 'FW Sunset']\n",
      "['2022', 'CF Sunset']\n"
     ]
    }
   ],
   "source": [
    "fwdata.drop([\"sunrise time\", \"Zenith\", \"Day length\", \"Astronomical twilight start\", \"Nautical twilight start\", 'Civil twilight start', 'Civil twilight end', 'Nautical twilight end', 'Astronomical twilight end', 'Unnamed: 11'], axis = 1, inplace = True)\n",
    "print(list(fwdata))\n",
    "cfdata.drop([\"sunrise time\", \"Zenith\", \"Day length\", \"Astronomical twilight start\", \"Nautical twilight start\", 'Civil twilight start', 'Civil twilight end', 'Nautical twilight end', 'Astronomical twilight end', 'Unnamed: 11'], axis = 1, inplace = True)\n",
    "print(list(cfdata))"
   ]
  },
  {
   "cell_type": "markdown",
   "metadata": {},
   "source": [
    "merge dataframes"
   ]
  },
  {
   "cell_type": "code",
   "execution_count": 30,
   "metadata": {},
   "outputs": [
    {
     "data": {
      "text/html": [
       "<div>\n",
       "<style scoped>\n",
       "    .dataframe tbody tr th:only-of-type {\n",
       "        vertical-align: middle;\n",
       "    }\n",
       "\n",
       "    .dataframe tbody tr th {\n",
       "        vertical-align: top;\n",
       "    }\n",
       "\n",
       "    .dataframe thead th {\n",
       "        text-align: right;\n",
       "    }\n",
       "</style>\n",
       "<table border=\"1\" class=\"dataframe\">\n",
       "  <thead>\n",
       "    <tr style=\"text-align: right;\">\n",
       "      <th></th>\n",
       "      <th>2022</th>\n",
       "      <th>FW Sunset</th>\n",
       "      <th>CF Sunset</th>\n",
       "    </tr>\n",
       "  </thead>\n",
       "  <tbody>\n",
       "    <tr>\n",
       "      <th>0</th>\n",
       "      <td>01-Jan</td>\n",
       "      <td>4:51 PM</td>\n",
       "      <td>5:15 PM</td>\n",
       "    </tr>\n",
       "    <tr>\n",
       "      <th>1</th>\n",
       "      <td>02-Jan</td>\n",
       "      <td>4:52 PM</td>\n",
       "      <td>5:16 PM</td>\n",
       "    </tr>\n",
       "    <tr>\n",
       "      <th>2</th>\n",
       "      <td>03-Jan</td>\n",
       "      <td>4:54 PM</td>\n",
       "      <td>5:17 PM</td>\n",
       "    </tr>\n",
       "    <tr>\n",
       "      <th>3</th>\n",
       "      <td>04-Jan</td>\n",
       "      <td>4:55 PM</td>\n",
       "      <td>5:18 PM</td>\n",
       "    </tr>\n",
       "    <tr>\n",
       "      <th>4</th>\n",
       "      <td>05-Jan</td>\n",
       "      <td>4:56 PM</td>\n",
       "      <td>5:19 PM</td>\n",
       "    </tr>\n",
       "    <tr>\n",
       "      <th>...</th>\n",
       "      <td>...</td>\n",
       "      <td>...</td>\n",
       "      <td>...</td>\n",
       "    </tr>\n",
       "    <tr>\n",
       "      <th>360</th>\n",
       "      <td>27-Dec</td>\n",
       "      <td>4:46 PM</td>\n",
       "      <td>5:10 PM</td>\n",
       "    </tr>\n",
       "    <tr>\n",
       "      <th>361</th>\n",
       "      <td>28-Dec</td>\n",
       "      <td>4:47 PM</td>\n",
       "      <td>5:11 PM</td>\n",
       "    </tr>\n",
       "    <tr>\n",
       "      <th>362</th>\n",
       "      <td>29-Dec</td>\n",
       "      <td>4:47 PM</td>\n",
       "      <td>5:12 PM</td>\n",
       "    </tr>\n",
       "    <tr>\n",
       "      <th>363</th>\n",
       "      <td>30-Dec</td>\n",
       "      <td>4:49 PM</td>\n",
       "      <td>5:12 PM</td>\n",
       "    </tr>\n",
       "    <tr>\n",
       "      <th>364</th>\n",
       "      <td>31-Dec</td>\n",
       "      <td>4:50 PM</td>\n",
       "      <td>5:13 PM</td>\n",
       "    </tr>\n",
       "  </tbody>\n",
       "</table>\n",
       "<p>365 rows × 3 columns</p>\n",
       "</div>"
      ],
      "text/plain": [
       "       2022 FW Sunset CF Sunset\n",
       "0    01-Jan   4:51 PM   5:15 PM\n",
       "1    02-Jan   4:52 PM   5:16 PM\n",
       "2    03-Jan   4:54 PM   5:17 PM\n",
       "3    04-Jan   4:55 PM   5:18 PM\n",
       "4    05-Jan   4:56 PM   5:19 PM\n",
       "..      ...       ...       ...\n",
       "360  27-Dec   4:46 PM   5:10 PM\n",
       "361  28-Dec   4:47 PM   5:11 PM\n",
       "362  29-Dec   4:47 PM   5:12 PM\n",
       "363  30-Dec   4:49 PM   5:12 PM\n",
       "364  31-Dec   4:50 PM   5:13 PM\n",
       "\n",
       "[365 rows x 3 columns]"
      ]
     },
     "execution_count": 30,
     "metadata": {},
     "output_type": "execute_result"
    }
   ],
   "source": [
    "sunsetdata = pd.merge(fwdata, cfdata)\n",
    "sunsetdata"
   ]
  },
  {
   "cell_type": "markdown",
   "metadata": {},
   "source": [
    "convert all columns to datetime"
   ]
  },
  {
   "cell_type": "code",
   "execution_count": 31,
   "metadata": {},
   "outputs": [
    {
     "data": {
      "text/plain": [
       "2022         datetime64[ns]\n",
       "FW Sunset    datetime64[ns]\n",
       "CF Sunset    datetime64[ns]\n",
       "dtype: object"
      ]
     },
     "execution_count": 31,
     "metadata": {},
     "output_type": "execute_result"
    }
   ],
   "source": [
    "sunsetdata['2022'] = pd.to_datetime(sunsetdata['2022'], format='%d-%b')\n",
    "sunsetdata['FW Sunset'] = pd.to_datetime(sunsetdata['FW Sunset'], format='%I:%M %p')\n",
    "sunsetdata['CF Sunset'] = pd.to_datetime(sunsetdata['CF Sunset'], format='%I:%M %p')\n",
    "\n",
    "sunsetdata.dtypes"
   ]
  },
  {
   "cell_type": "code",
   "execution_count": 32,
   "metadata": {},
   "outputs": [
    {
     "data": {
      "text/html": [
       "<div>\n",
       "<style scoped>\n",
       "    .dataframe tbody tr th:only-of-type {\n",
       "        vertical-align: middle;\n",
       "    }\n",
       "\n",
       "    .dataframe tbody tr th {\n",
       "        vertical-align: top;\n",
       "    }\n",
       "\n",
       "    .dataframe thead th {\n",
       "        text-align: right;\n",
       "    }\n",
       "</style>\n",
       "<table border=\"1\" class=\"dataframe\">\n",
       "  <thead>\n",
       "    <tr style=\"text-align: right;\">\n",
       "      <th></th>\n",
       "      <th>2022</th>\n",
       "      <th>FW Sunset</th>\n",
       "      <th>CF Sunset</th>\n",
       "    </tr>\n",
       "  </thead>\n",
       "  <tbody>\n",
       "    <tr>\n",
       "      <th>0</th>\n",
       "      <td>1900-01-01</td>\n",
       "      <td>1900-01-01 16:51:00</td>\n",
       "      <td>1900-01-01 17:15:00</td>\n",
       "    </tr>\n",
       "    <tr>\n",
       "      <th>1</th>\n",
       "      <td>1900-01-02</td>\n",
       "      <td>1900-01-01 16:52:00</td>\n",
       "      <td>1900-01-01 17:16:00</td>\n",
       "    </tr>\n",
       "    <tr>\n",
       "      <th>2</th>\n",
       "      <td>1900-01-03</td>\n",
       "      <td>1900-01-01 16:54:00</td>\n",
       "      <td>1900-01-01 17:17:00</td>\n",
       "    </tr>\n",
       "    <tr>\n",
       "      <th>3</th>\n",
       "      <td>1900-01-04</td>\n",
       "      <td>1900-01-01 16:55:00</td>\n",
       "      <td>1900-01-01 17:18:00</td>\n",
       "    </tr>\n",
       "    <tr>\n",
       "      <th>4</th>\n",
       "      <td>1900-01-05</td>\n",
       "      <td>1900-01-01 16:56:00</td>\n",
       "      <td>1900-01-01 17:19:00</td>\n",
       "    </tr>\n",
       "    <tr>\n",
       "      <th>...</th>\n",
       "      <td>...</td>\n",
       "      <td>...</td>\n",
       "      <td>...</td>\n",
       "    </tr>\n",
       "    <tr>\n",
       "      <th>360</th>\n",
       "      <td>1900-12-27</td>\n",
       "      <td>1900-01-01 16:46:00</td>\n",
       "      <td>1900-01-01 17:10:00</td>\n",
       "    </tr>\n",
       "    <tr>\n",
       "      <th>361</th>\n",
       "      <td>1900-12-28</td>\n",
       "      <td>1900-01-01 16:47:00</td>\n",
       "      <td>1900-01-01 17:11:00</td>\n",
       "    </tr>\n",
       "    <tr>\n",
       "      <th>362</th>\n",
       "      <td>1900-12-29</td>\n",
       "      <td>1900-01-01 16:47:00</td>\n",
       "      <td>1900-01-01 17:12:00</td>\n",
       "    </tr>\n",
       "    <tr>\n",
       "      <th>363</th>\n",
       "      <td>1900-12-30</td>\n",
       "      <td>1900-01-01 16:49:00</td>\n",
       "      <td>1900-01-01 17:12:00</td>\n",
       "    </tr>\n",
       "    <tr>\n",
       "      <th>364</th>\n",
       "      <td>1900-12-31</td>\n",
       "      <td>1900-01-01 16:50:00</td>\n",
       "      <td>1900-01-01 17:13:00</td>\n",
       "    </tr>\n",
       "  </tbody>\n",
       "</table>\n",
       "<p>365 rows × 3 columns</p>\n",
       "</div>"
      ],
      "text/plain": [
       "          2022           FW Sunset           CF Sunset\n",
       "0   1900-01-01 1900-01-01 16:51:00 1900-01-01 17:15:00\n",
       "1   1900-01-02 1900-01-01 16:52:00 1900-01-01 17:16:00\n",
       "2   1900-01-03 1900-01-01 16:54:00 1900-01-01 17:17:00\n",
       "3   1900-01-04 1900-01-01 16:55:00 1900-01-01 17:18:00\n",
       "4   1900-01-05 1900-01-01 16:56:00 1900-01-01 17:19:00\n",
       "..         ...                 ...                 ...\n",
       "360 1900-12-27 1900-01-01 16:46:00 1900-01-01 17:10:00\n",
       "361 1900-12-28 1900-01-01 16:47:00 1900-01-01 17:11:00\n",
       "362 1900-12-29 1900-01-01 16:47:00 1900-01-01 17:12:00\n",
       "363 1900-12-30 1900-01-01 16:49:00 1900-01-01 17:12:00\n",
       "364 1900-12-31 1900-01-01 16:50:00 1900-01-01 17:13:00\n",
       "\n",
       "[365 rows x 3 columns]"
      ]
     },
     "execution_count": 32,
     "metadata": {},
     "output_type": "execute_result"
    }
   ],
   "source": [
    "sunsetdata"
   ]
  },
  {
   "cell_type": "markdown",
   "metadata": {},
   "source": [
    "plot data"
   ]
  },
  {
   "cell_type": "code",
   "execution_count": 33,
   "metadata": {},
   "outputs": [],
   "source": [
    "#sunsetdata.plot(x = '2022', y = ['FW Sunset', 'CF Sunset'])\n",
    "#plt.show()"
   ]
  },
  {
   "cell_type": "code",
   "execution_count": 47,
   "metadata": {},
   "outputs": [
    {
     "data": {
      "text/plain": [
       "<function matplotlib.pyplot.show(close=None, block=None)>"
      ]
     },
     "execution_count": 47,
     "metadata": {},
     "output_type": "execute_result"
    },
    {
     "data": {
      "image/png": "[encoded data removed]",
      "text/plain": [
       "<Figure size 1728x864 with 1 Axes>"
      ]
     },
     "metadata": {
      "needs_background": "light"
     },
     "output_type": "display_data"
    }
   ],
   "source": [
    "#define axis\n",
    "\n",
    "x = sunsetdata['2022']\n",
    "y = sunsetdata['CF Sunset']\n",
    "y2 = sunsetdata['FW Sunset']\n",
    "\n",
    "#create figure\n",
    "\n",
    "fig, ax = plt.subplots(figsize=(24, 12))\n",
    "\n",
    "#add data to axes\n",
    "\n",
    "ax.plot(x, y, label='Cardiff')\n",
    "ax.plot(x, y2, label='Fort William')\n",
    "\n",
    "#add axis lables\n",
    "\n",
    "ax.set_xlabel('Date')\n",
    "ax.set_ylabel('Time')\n",
    "\n",
    "#add a legend\n",
    "\n",
    "ax.legend()\n",
    "\n",
    "plt.show"
   ]
  },
  {
   "cell_type": "markdown",
   "metadata": {},
   "source": [
    "https://matplotlib.org/stable/tutorials/introductory/quick_start.html\n",
    "https://matplotlib.org/stable/users/getting_started/index.html\n",
    "https://matplotlib.org/"
   ]
  }
 ],
 "metadata": {
  "kernelspec": {
   "display_name": "Python 3.9.12 ('base')",
   "language": "python",
   "name": "python3"
  },
  "language_info": {
   "codemirror_mode": {
    "name": "ipython",
    "version": 3
   },
   "file_extension": ".py",
   "mimetype": "text/x-python",
   "name": "python",
   "nbconvert_exporter": "python",
   "pygments_lexer": "ipython3",
   "version": "3.9.12"
  },
  "orig_nbformat": 4,
  "vscode": {
   "interpreter": {
    "hash": "b8f793d26e929a710c8e7620c1cbb24284c5bf614a9a254726a2c2ddf2174085"
   }
  }
 },
 "nbformat": 4,
 "nbformat_minor": 2
}
