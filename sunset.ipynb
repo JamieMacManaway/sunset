{
 "cells": [
  {
   "cell_type": "markdown",
   "metadata": {},
   "source": [
    "This notebook is for graphically representing sunset data from two different locations.\n",
    "\n",
    "Data can be downloaded as a .csv for different cities from https://sunsetsunrisetime.com but needs a bit of cleaning."
   ]
  },
  {
   "cell_type": "code",
   "execution_count": null,
   "metadata": {},
   "outputs": [],
   "source": [
    "import pandas as pd\n",
    "import matplotlib.pyplot as plt\n",
    "import matplotlib.dates as mdates"
   ]
  },
  {
   "cell_type": "markdown",
   "metadata": {},
   "source": [
    "Import data from csv files."
   ]
  },
  {
   "cell_type": "code",
   "execution_count": null,
   "metadata": {},
   "outputs": [],
   "source": [
    "fwdata = pd.read_csv('data/fw-data.csv')\n",
    "cfdata = pd.read_csv('data/cf-data.csv')"
   ]
  },
  {
   "cell_type": "markdown",
   "metadata": {},
   "source": [
    "Remove extraneous columns from dataframes."
   ]
  },
  {
   "cell_type": "code",
   "execution_count": null,
   "metadata": {},
   "outputs": [],
   "source": [
    "fwdata.drop([\"sunrise time\", \"Zenith\", \"Day length\", \"Astronomical twilight start\", \"Nautical twilight start\", 'Civil twilight start', 'Civil twilight end', 'Nautical twilight end', 'Astronomical twilight end', 'Unnamed: 11'], axis = 1, inplace = True)\n",
    "print(list(fwdata))\n",
    "cfdata.drop([\"sunrise time\", \"Zenith\", \"Day length\", \"Astronomical twilight start\", \"Nautical twilight start\", 'Civil twilight start', 'Civil twilight end', 'Nautical twilight end', 'Astronomical twilight end', 'Unnamed: 11'], axis = 1, inplace = True)\n",
    "print(list(cfdata))"
   ]
  },
  {
   "cell_type": "markdown",
   "metadata": {},
   "source": [
    "Merge dataframes."
   ]
  },
  {
   "cell_type": "code",
   "execution_count": null,
   "metadata": {},
   "outputs": [],
   "source": [
    "sunsetdata = pd.merge(fwdata, cfdata)"
   ]
  },
  {
   "cell_type": "markdown",
   "metadata": {},
   "source": [
    "Convert all columns to datetime."
   ]
  },
  {
   "cell_type": "code",
   "execution_count": null,
   "metadata": {},
   "outputs": [],
   "source": [
    "sunsetdata['2022'] = pd.to_datetime(sunsetdata['2022'], format='%d-%b')\n",
    "sunsetdata['FW Sunset'] = pd.to_datetime(sunsetdata['FW Sunset'], format='%I:%M %p')\n",
    "sunsetdata['CF Sunset'] = pd.to_datetime(sunsetdata['CF Sunset'], format='%I:%M %p')"
   ]
  },
  {
   "cell_type": "markdown",
   "metadata": {},
   "source": [
    "Plot data and make it look pretty."
   ]
  },
  {
   "cell_type": "code",
   "execution_count": null,
   "metadata": {},
   "outputs": [],
   "source": [
    "#define axis\n",
    "\n",
    "x = sunsetdata['2022']\n",
    "y = sunsetdata['CF Sunset']\n",
    "y2 = sunsetdata['FW Sunset']\n",
    "\n",
    "#create figure\n",
    "\n",
    "fig, ax = plt.subplots(figsize=(12, 8), layout='constrained')\n",
    "\n",
    "#add data to axes\n",
    "\n",
    "ax.plot(x, y, label='Cardiff')\n",
    "ax.plot(x, y2, label='Fort William')\n",
    "\n",
    "#make tick marks each month and set them to month format on x-axis\n",
    "\n",
    "ax.xaxis.set_major_locator(mdates.MonthLocator())\n",
    "ax.xaxis.set_major_formatter(mdates.DateFormatter('%b'))\n",
    "\n",
    "#do y-axis\n",
    "\n",
    "#ax.yaxis.set_major_locator(mdates.MINUTELY())\n",
    "ax.yaxis.set_major_formatter(mdates.DateFormatter('%H:%M'))\n",
    "\n",
    "#add axis lables\n",
    "\n",
    "ax.set_xlabel('Month')\n",
    "ax.set_ylabel('Time')\n",
    "\n",
    "#add a legend\n",
    "\n",
    "ax.legend()\n",
    "\n",
    "#add a title\n",
    "\n",
    "ax.set_title('Sunset times throughout the year', loc='left', y=0.9, x=0.02, fontsize='large')\n",
    "\n",
    "plt.show"
   ]
  }
 ],
 "metadata": {
  "kernelspec": {
   "display_name": "Python 3.9.12 ('base')",
   "language": "python",
   "name": "python3"
  },
  "language_info": {
   "codemirror_mode": {
    "name": "ipython",
    "version": 3
   },
   "file_extension": ".py",
   "mimetype": "text/x-python",
   "name": "python",
   "nbconvert_exporter": "python",
   "pygments_lexer": "ipython3",
   "version": "3.9.12"
  },
  "orig_nbformat": 4,
  "vscode": {
   "interpreter": {
    "hash": "b8f793d26e929a710c8e7620c1cbb24284c5bf614a9a254726a2c2ddf2174085"
   }
  }
 },
 "nbformat": 4,
 "nbformat_minor": 2
}
